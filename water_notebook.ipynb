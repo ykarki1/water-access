{
 "cells": [
  {
   "cell_type": "code",
   "execution_count": null,
   "metadata": {},
   "outputs": [],
   "source": [
    "import pandas as pd\n",
    "from splinter import Browser\n",
    "from bs4 import BeautifulSoup as bs\n",
    "import time\n",
    "import os\n",
    "import imgkit\n",
    "import subprocess\n",
    "\n",
    "import colors\n",
    "import time\n",
    "import datetime\n",
    "from rfc3339 import rfc3339"
   ]
  },
  {
   "cell_type": "code",
   "execution_count": null,
   "metadata": {},
   "outputs": [],
   "source": [
    "def init_splinter():\n",
    "    '''\n",
    "        init_splinter() initializes and returns an automated Chrome web browser for us to use for\n",
    "    scraping.\n",
    "    '''\n",
    "    print('Initizalizing Splinter Browser...\\n')\n",
    "    time.sleep(2)\n",
    "    ############################################\n",
    "    executable_path = {'executable_path': '/usr/local/bin/chromedriver'}\n",
    "    browser = Browser('chrome', **executable_path, headless=False)\n",
    "    ############################################\n",
    "    return browser\n",
    "\n",
    "\n",
    "def simmer_soup():\n",
    "    '''\n",
    "        simmer_soup() receives the Splinter browser and returns the current page's parsed html as\n",
    "    \"Soup\".\n",
    "    '''\n",
    "    html = browser.html\n",
    "    soup = bs(html, 'html.parser')\n",
    "    ############################################\n",
    "    return html, soup"
   ]
  },
  {
   "cell_type": "code",
   "execution_count": null,
   "metadata": {},
   "outputs": [],
   "source": [
    "# Init the browser\n",
    "browser = init_splinter()\n",
    "browser.driver.minimize_window()"
   ]
  },
  {
   "cell_type": "code",
   "execution_count": null,
   "metadata": {},
   "outputs": [],
   "source": [
    "# Download the csv to ~/Downloads as \"API_SH.H2O.SMDW.ZS_DS2_en_csv_v2_10581721.zip\"\n",
    "url = \"http://api.worldbank.org/v2/en/indicator/SH.H2O.SMDW.ZS?downloadformat=csv\"\n",
    "browser.visit(url)"
   ]
  },
  {
   "cell_type": "code",
   "execution_count": null,
   "metadata": {},
   "outputs": [],
   "source": [
    "# return the correct slash for the os\n",
    "if (os.name == \"posix\"):\n",
    "    slash = \"/\"\n",
    "#todo make a slash return of \"\\\" for Windows"
   ]
  },
  {
   "cell_type": "code",
   "execution_count": null,
   "metadata": {},
   "outputs": [],
   "source": [
    "# create a var of the user's downloads dir\n",
    "data_dir = str(os.environ['HOME'] + slash + \"Downloads\" + slash)\n",
    "print(data_dir)"
   ]
  },
  {
   "cell_type": "code",
   "execution_count": null,
   "metadata": {},
   "outputs": [],
   "source": [
    "# create a var of the downloaded archive of .csvs\n",
    "data_file = \"API_SH.H2O.SMDW.ZS_DS2_en_csv_v2_10581721.zip\"\n",
    "data_loc = (data_dir + data_file)\n",
    "print(data_loc)"
   ]
  },
  {
   "cell_type": "code",
   "execution_count": null,
   "metadata": {},
   "outputs": [],
   "source": [
    "# extract the .csvs from the archive into the same downloads directory\n",
    "import zipfile\n",
    "zf = zipfile.ZipFile(data_loc, 'r')\n",
    "zf.extractall(data_dir)"
   ]
  },
  {
   "cell_type": "code",
   "execution_count": null,
   "metadata": {},
   "outputs": [],
   "source": [
    "csv1_name = \"API_SH.H2O.SMDW.ZS_DS2_en_csv_v2_10581721.csv\"\n",
    "csv1 = (data_dir + csv1_name)\n",
    "print(csv1)"
   ]
  },
  {
   "cell_type": "code",
   "execution_count": null,
   "metadata": {},
   "outputs": [],
   "source": [
    "csv2_name = \"Metadata_Country_API_SH.H2O.SMDW.ZS_DS2_en_csv_v2_10581721.csv\"\n",
    "csv2 = (data_dir + csv2_name)\n",
    "print(csv2)"
   ]
  },
  {
   "cell_type": "code",
   "execution_count": null,
   "metadata": {},
   "outputs": [],
   "source": [
    "pd.read_csv(csv1)\n",
    "#todo figure out how to drop all unneeded upon this import to make it work"
   ]
  },
  {
   "cell_type": "code",
   "execution_count": null,
   "metadata": {},
   "outputs": [],
   "source": [
    "pd.read_csv(csv2)"
   ]
  },
  {
   "cell_type": "code",
   "execution_count": null,
   "metadata": {},
   "outputs": [],
   "source": []
  }
 ],
 "metadata": {
  "kernelspec": {
   "display_name": "Python 3",
   "language": "python",
   "name": "python3"
  },
  "language_info": {
   "codemirror_mode": {
    "name": "ipython",
    "version": 3
   },
   "file_extension": ".py",
   "mimetype": "text/x-python",
   "name": "python",
   "nbconvert_exporter": "python",
   "pygments_lexer": "ipython3",
   "version": "3.7.1"
  }
 },
 "nbformat": 4,
 "nbformat_minor": 2
}
